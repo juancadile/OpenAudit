{
  "cells": [
    {
      "cell_type": "raw",
      "metadata": {
        "vscode": {
          "languageId": "raw"
        }
      },
      "source": [
        "# 🚀 Getting Started with OpenAudit\n",
        "\n",
        "Welcome to OpenAudit! This notebook will walk you through running your first bias audit and understanding the results.\n",
        "\n",
        "## What You'll Learn\n",
        "- How to set up OpenAudit\n",
        "- Running a hiring bias audit\n",
        "- Understanding analysis results\n",
        "- Using different analysis modules\n",
        "- Generating reports\n",
        "\n",
        "Let's get started! 🎉\n"
      ]
    },
    {
      "cell_type": "raw",
      "metadata": {
        "vscode": {
          "languageId": "raw"
        }
      },
      "source": [
        "## 🛠️ Setup\n",
        "\n",
        "First, let's make sure OpenAudit is installed and configured properly.\n"
      ]
    },
    {
      "cell_type": "code",
      "execution_count": 1,
      "metadata": {},
      "outputs": [
        {
          "ename": "ModuleNotFoundError",
          "evalue": "No module named 'core'",
          "output_type": "error",
          "traceback": [
            "\u001b[31m---------------------------------------------------------------------------\u001b[39m",
            "\u001b[31mModuleNotFoundError\u001b[39m                       Traceback (most recent call last)",
            "\u001b[36mCell\u001b[39m\u001b[36m \u001b[39m\u001b[32mIn[1]\u001b[39m\u001b[32m, line 11\u001b[39m\n\u001b[32m      8\u001b[39m \u001b[38;5;28;01mfrom\u001b[39;00m\u001b[38;5;250m \u001b[39m\u001b[34;01mdatetime\u001b[39;00m\u001b[38;5;250m \u001b[39m\u001b[38;5;28;01mimport\u001b[39;00m datetime\n\u001b[32m     10\u001b[39m \u001b[38;5;66;03m# Import OpenAudit components\u001b[39;00m\n\u001b[32m---> \u001b[39m\u001b[32m11\u001b[39m \u001b[38;5;28;01mfrom\u001b[39;00m\u001b[38;5;250m \u001b[39m\u001b[34;01mcore\u001b[39;00m\u001b[34;01m.\u001b[39;00m\u001b[34;01mbias_testing_framework\u001b[39;00m\u001b[38;5;250m \u001b[39m\u001b[38;5;28;01mimport\u001b[39;00m HiringBiasTest, BiasAnalyzer\n\u001b[32m     12\u001b[39m \u001b[38;5;28;01mfrom\u001b[39;00m\u001b[38;5;250m \u001b[39m\u001b[34;01mcore\u001b[39;00m\u001b[34;01m.\u001b[39;00m\u001b[34;01mmodel_manager\u001b[39;00m\u001b[38;5;250m \u001b[39m\u001b[38;5;28;01mimport\u001b[39;00m ModelManager\n\u001b[32m     13\u001b[39m \u001b[38;5;28;01mfrom\u001b[39;00m\u001b[38;5;250m \u001b[39m\u001b[34;01mcore\u001b[39;00m\u001b[34;01m.\u001b[39;00m\u001b[34;01mmodular_bias_analyzer\u001b[39;00m\u001b[38;5;250m \u001b[39m\u001b[38;5;28;01mimport\u001b[39;00m ModularBiasAnalyzer\n",
            "\u001b[31mModuleNotFoundError\u001b[39m: No module named 'core'"
          ]
        }
      ],
      "source": [
        "# Install OpenAudit (if not already installed)\n",
        "# !pip install openaudit\n",
        "\n",
        "# Import necessary modules\n",
        "import os\n",
        "import pandas as pd\n",
        "import numpy as np\n",
        "from datetime import datetime\n",
        "\n",
        "# Import OpenAudit components\n",
        "from core.bias_testing_framework import HiringBiasTest, BiasAnalyzer\n",
        "from core.model_manager import ModelManager\n",
        "from core.modular_bias_analyzer import ModularBiasAnalyzer\n",
        "from core.module_registry import get_global_registry\n",
        "from core.analysis_profiles import get_global_profile_manager\n",
        "\n",
        "print(\"✅ OpenAudit imported successfully!\")\n"
      ]
    }
  ],
  "metadata": {
    "kernelspec": {
      "display_name": "openaudit_env",
      "language": "python",
      "name": "python3"
    },
    "language_info": {
      "codemirror_mode": {
        "name": "ipython",
        "version": 3
      },
      "file_extension": ".py",
      "mimetype": "text/x-python",
      "name": "python",
      "nbconvert_exporter": "python",
      "pygments_lexer": "ipython3",
      "version": "3.11.4"
    }
  },
  "nbformat": 4,
  "nbformat_minor": 2
}
